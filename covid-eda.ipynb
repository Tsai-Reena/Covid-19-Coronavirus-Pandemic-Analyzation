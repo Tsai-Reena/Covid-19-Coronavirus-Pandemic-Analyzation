{
 "cells": [
  {
   "cell_type": "code",
   "execution_count": 8,
   "id": "6279bf4b",
   "metadata": {
    "_cell_guid": "b1076dfc-b9ad-4769-8c92-a6c4dae69d19",
    "_uuid": "8f2839f25d086af736a60e9eeb907d3b93b6e0e5",
    "execution": {
     "iopub.execute_input": "2022-04-29T17:02:27.808294Z",
     "iopub.status.busy": "2022-04-29T17:02:27.807888Z",
     "iopub.status.idle": "2022-04-29T17:02:30.743407Z",
     "shell.execute_reply": "2022-04-29T17:02:30.742405Z"
    },
    "papermill": {
     "duration": 2.969713,
     "end_time": "2022-04-29T17:02:30.746355",
     "exception": false,
     "start_time": "2022-04-29T17:02:27.776642",
     "status": "completed"
    },
    "tags": []
   },
   "outputs": [],
   "source": [
    "import numpy as np\n",
    "import pandas as pd\n",
    "import seaborn as sns\n",
    "import matplotlib.pyplot as plt\n",
    "import warnings\n",
    "warnings.filterwarnings(\"ignore\")\n",
    "\n",
    "%matplotlib inline"
   ]
  },
  {
   "cell_type": "code",
   "execution_count": 9,
   "id": "dbaf3ffb",
   "metadata": {
    "execution": {
     "iopub.execute_input": "2022-04-29T17:02:30.801161Z",
     "iopub.status.busy": "2022-04-29T17:02:30.800822Z",
     "iopub.status.idle": "2022-04-29T17:02:30.828532Z",
     "shell.execute_reply": "2022-04-29T17:02:30.827812Z"
    },
    "papermill": {
     "duration": 0.057948,
     "end_time": "2022-04-29T17:02:30.830889",
     "exception": false,
     "start_time": "2022-04-29T17:02:30.772941",
     "status": "completed"
    },
    "tags": []
   },
   "outputs": [],
   "source": [
    "df = pd.read_csv(\"COVID-19 Coronavirus.csv\", encoding='windows-1252')"
   ]
  },
  {
   "cell_type": "code",
   "execution_count": 10,
   "id": "2e1ec29e",
   "metadata": {
    "execution": {
     "iopub.execute_input": "2022-04-29T17:02:30.886133Z",
     "iopub.status.busy": "2022-04-29T17:02:30.885454Z",
     "iopub.status.idle": "2022-04-29T17:02:30.910032Z",
     "shell.execute_reply": "2022-04-29T17:02:30.909289Z"
    },
    "papermill": {
     "duration": 0.054934,
     "end_time": "2022-04-29T17:02:30.912227",
     "exception": false,
     "start_time": "2022-04-29T17:02:30.857293",
     "status": "completed"
    },
    "tags": []
   },
   "outputs": [
    {
     "data": {
      "text/html": [
       "<div>\n",
       "<style scoped>\n",
       "    .dataframe tbody tr th:only-of-type {\n",
       "        vertical-align: middle;\n",
       "    }\n",
       "\n",
       "    .dataframe tbody tr th {\n",
       "        vertical-align: top;\n",
       "    }\n",
       "\n",
       "    .dataframe thead th {\n",
       "        text-align: right;\n",
       "    }\n",
       "</style>\n",
       "<table border=\"1\" class=\"dataframe\">\n",
       "  <thead>\n",
       "    <tr style=\"text-align: right;\">\n",
       "      <th></th>\n",
       "      <th>Country</th>\n",
       "      <th>Other names</th>\n",
       "      <th>ISO 3166-1 alpha-3 CODE</th>\n",
       "      <th>Population</th>\n",
       "      <th>Continent</th>\n",
       "      <th>Total Cases</th>\n",
       "      <th>Total Deaths</th>\n",
       "      <th>TotalCases//1M pop</th>\n",
       "      <th>TotalDeaths/1M pop</th>\n",
       "      <th>Death percentage</th>\n",
       "    </tr>\n",
       "  </thead>\n",
       "  <tbody>\n",
       "    <tr>\n",
       "      <th>0</th>\n",
       "      <td>Afghanistan</td>\n",
       "      <td>Afghanistan</td>\n",
       "      <td>AFG</td>\n",
       "      <td>40462186</td>\n",
       "      <td>Asia</td>\n",
       "      <td>177827</td>\n",
       "      <td>7671</td>\n",
       "      <td>4395</td>\n",
       "      <td>190</td>\n",
       "      <td>4.313743</td>\n",
       "    </tr>\n",
       "    <tr>\n",
       "      <th>1</th>\n",
       "      <td>Albania</td>\n",
       "      <td>Albania</td>\n",
       "      <td>ALB</td>\n",
       "      <td>2872296</td>\n",
       "      <td>Europe</td>\n",
       "      <td>273870</td>\n",
       "      <td>3492</td>\n",
       "      <td>95349</td>\n",
       "      <td>1216</td>\n",
       "      <td>1.275058</td>\n",
       "    </tr>\n",
       "    <tr>\n",
       "      <th>2</th>\n",
       "      <td>Algeria</td>\n",
       "      <td>Algeria</td>\n",
       "      <td>DZA</td>\n",
       "      <td>45236699</td>\n",
       "      <td>Africa</td>\n",
       "      <td>265691</td>\n",
       "      <td>6874</td>\n",
       "      <td>5873</td>\n",
       "      <td>152</td>\n",
       "      <td>2.587216</td>\n",
       "    </tr>\n",
       "    <tr>\n",
       "      <th>3</th>\n",
       "      <td>Andorra</td>\n",
       "      <td>Andorra</td>\n",
       "      <td>AND</td>\n",
       "      <td>77481</td>\n",
       "      <td>Europe</td>\n",
       "      <td>40024</td>\n",
       "      <td>153</td>\n",
       "      <td>516565</td>\n",
       "      <td>1975</td>\n",
       "      <td>0.382271</td>\n",
       "    </tr>\n",
       "    <tr>\n",
       "      <th>4</th>\n",
       "      <td>Angola</td>\n",
       "      <td>Angola</td>\n",
       "      <td>AGO</td>\n",
       "      <td>34654212</td>\n",
       "      <td>Africa</td>\n",
       "      <td>99194</td>\n",
       "      <td>1900</td>\n",
       "      <td>2862</td>\n",
       "      <td>55</td>\n",
       "      <td>1.915438</td>\n",
       "    </tr>\n",
       "  </tbody>\n",
       "</table>\n",
       "</div>"
      ],
      "text/plain": [
       "       Country  Other names ISO 3166-1 alpha-3 CODE  Population Continent  \\\n",
       "0  Afghanistan  Afghanistan                     AFG    40462186      Asia   \n",
       "1      Albania      Albania                     ALB     2872296    Europe   \n",
       "2      Algeria      Algeria                     DZA    45236699    Africa   \n",
       "3      Andorra      Andorra                     AND       77481    Europe   \n",
       "4       Angola       Angola                     AGO    34654212    Africa   \n",
       "\n",
       "   Total Cases  Total Deaths  TotalCases//1M pop  TotalDeaths/1M pop  \\\n",
       "0       177827          7671                4395                 190   \n",
       "1       273870          3492               95349                1216   \n",
       "2       265691          6874                5873                 152   \n",
       "3        40024           153              516565                1975   \n",
       "4        99194          1900                2862                  55   \n",
       "\n",
       "   Death percentage  \n",
       "0          4.313743  \n",
       "1          1.275058  \n",
       "2          2.587216  \n",
       "3          0.382271  \n",
       "4          1.915438  "
      ]
     },
     "execution_count": 10,
     "metadata": {},
     "output_type": "execute_result"
    }
   ],
   "source": [
    "pd.DataFrame(df.head())"
   ]
  },
  {
   "cell_type": "code",
   "execution_count": 11,
   "id": "105c3323",
   "metadata": {
    "execution": {
     "iopub.execute_input": "2022-04-29T17:02:30.968779Z",
     "iopub.status.busy": "2022-04-29T17:02:30.968130Z",
     "iopub.status.idle": "2022-04-29T17:02:30.973427Z",
     "shell.execute_reply": "2022-04-29T17:02:30.972467Z"
    },
    "papermill": {
     "duration": 0.035934,
     "end_time": "2022-04-29T17:02:30.975323",
     "exception": false,
     "start_time": "2022-04-29T17:02:30.939389",
     "status": "completed"
    },
    "tags": []
   },
   "outputs": [
    {
     "name": "stdout",
     "output_type": "stream",
     "text": [
      "Shape of the dataset is : (225, 10)\n"
     ]
    }
   ],
   "source": [
    "print(f'Shape of the dataset is : {df.shape}') "
   ]
  },
  {
   "cell_type": "markdown",
   "id": "4abe1ec8",
   "metadata": {
    "papermill": {
     "duration": 0.027862,
     "end_time": "2022-04-29T17:02:31.030393",
     "exception": false,
     "start_time": "2022-04-29T17:02:31.002531",
     "status": "completed"
    },
    "tags": []
   },
   "source": [
    "**Each country details are stored in each rows. Hence data here is accumulated for 225 countries**"
   ]
  },
  {
   "cell_type": "code",
   "execution_count": 13,
   "id": "4047009e",
   "metadata": {
    "execution": {
     "iopub.execute_input": "2022-04-29T17:02:35.470176Z",
     "iopub.status.busy": "2022-04-29T17:02:35.469879Z",
     "iopub.status.idle": "2022-04-29T17:02:35.490488Z",
     "shell.execute_reply": "2022-04-29T17:02:35.489678Z"
    },
    "papermill": {
     "duration": 0.078867,
     "end_time": "2022-04-29T17:02:35.492742",
     "exception": false,
     "start_time": "2022-04-29T17:02:35.413875",
     "status": "completed"
    },
    "tags": []
   },
   "outputs": [
    {
     "data": {
      "text/html": [
       "<div>\n",
       "<style scoped>\n",
       "    .dataframe tbody tr th:only-of-type {\n",
       "        vertical-align: middle;\n",
       "    }\n",
       "\n",
       "    .dataframe tbody tr th {\n",
       "        vertical-align: top;\n",
       "    }\n",
       "\n",
       "    .dataframe thead th {\n",
       "        text-align: right;\n",
       "    }\n",
       "</style>\n",
       "<table border=\"1\" class=\"dataframe\">\n",
       "  <thead>\n",
       "    <tr style=\"text-align: right;\">\n",
       "      <th></th>\n",
       "      <th>Country</th>\n",
       "      <th>Other names</th>\n",
       "      <th>ISO 3166-1 alpha-3 CODE</th>\n",
       "      <th>Population</th>\n",
       "      <th>Continent</th>\n",
       "      <th>Total Cases</th>\n",
       "      <th>Total Deaths</th>\n",
       "      <th>TotalCases//1M pop</th>\n",
       "      <th>TotalDeaths/1M pop</th>\n",
       "      <th>Death percentage</th>\n",
       "    </tr>\n",
       "  </thead>\n",
       "  <tbody>\n",
       "    <tr>\n",
       "      <th>0</th>\n",
       "      <td>Afghanistan</td>\n",
       "      <td>Afghanistan</td>\n",
       "      <td>AFG</td>\n",
       "      <td>40462186</td>\n",
       "      <td>Asia</td>\n",
       "      <td>177827</td>\n",
       "      <td>7671</td>\n",
       "      <td>4395</td>\n",
       "      <td>190</td>\n",
       "      <td>4.313743</td>\n",
       "    </tr>\n",
       "    <tr>\n",
       "      <th>1</th>\n",
       "      <td>Albania</td>\n",
       "      <td>Albania</td>\n",
       "      <td>ALB</td>\n",
       "      <td>2872296</td>\n",
       "      <td>Europe</td>\n",
       "      <td>273870</td>\n",
       "      <td>3492</td>\n",
       "      <td>95349</td>\n",
       "      <td>1216</td>\n",
       "      <td>1.275058</td>\n",
       "    </tr>\n",
       "    <tr>\n",
       "      <th>2</th>\n",
       "      <td>Algeria</td>\n",
       "      <td>Algeria</td>\n",
       "      <td>DZA</td>\n",
       "      <td>45236699</td>\n",
       "      <td>Africa</td>\n",
       "      <td>265691</td>\n",
       "      <td>6874</td>\n",
       "      <td>5873</td>\n",
       "      <td>152</td>\n",
       "      <td>2.587216</td>\n",
       "    </tr>\n",
       "    <tr>\n",
       "      <th>3</th>\n",
       "      <td>Andorra</td>\n",
       "      <td>Andorra</td>\n",
       "      <td>AND</td>\n",
       "      <td>77481</td>\n",
       "      <td>Europe</td>\n",
       "      <td>40024</td>\n",
       "      <td>153</td>\n",
       "      <td>516565</td>\n",
       "      <td>1975</td>\n",
       "      <td>0.382271</td>\n",
       "    </tr>\n",
       "    <tr>\n",
       "      <th>4</th>\n",
       "      <td>Angola</td>\n",
       "      <td>Angola</td>\n",
       "      <td>AGO</td>\n",
       "      <td>34654212</td>\n",
       "      <td>Africa</td>\n",
       "      <td>99194</td>\n",
       "      <td>1900</td>\n",
       "      <td>2862</td>\n",
       "      <td>55</td>\n",
       "      <td>1.915438</td>\n",
       "    </tr>\n",
       "    <tr>\n",
       "      <th>...</th>\n",
       "      <td>...</td>\n",
       "      <td>...</td>\n",
       "      <td>...</td>\n",
       "      <td>...</td>\n",
       "      <td>...</td>\n",
       "      <td>...</td>\n",
       "      <td>...</td>\n",
       "      <td>...</td>\n",
       "      <td>...</td>\n",
       "      <td>...</td>\n",
       "    </tr>\n",
       "    <tr>\n",
       "      <th>220</th>\n",
       "      <td>Wallis and Futuna</td>\n",
       "      <td>Wallis and Futuna Islands</td>\n",
       "      <td>WLF</td>\n",
       "      <td>10894</td>\n",
       "      <td>Oceania</td>\n",
       "      <td>454</td>\n",
       "      <td>7</td>\n",
       "      <td>41674</td>\n",
       "      <td>643</td>\n",
       "      <td>1.541850</td>\n",
       "    </tr>\n",
       "    <tr>\n",
       "      <th>221</th>\n",
       "      <td>Western Sahara</td>\n",
       "      <td>Western Sahara</td>\n",
       "      <td>ESH??</td>\n",
       "      <td>623031</td>\n",
       "      <td>Africa</td>\n",
       "      <td>10</td>\n",
       "      <td>1</td>\n",
       "      <td>16</td>\n",
       "      <td>2</td>\n",
       "      <td>10.000000</td>\n",
       "    </tr>\n",
       "    <tr>\n",
       "      <th>222</th>\n",
       "      <td>Yemen</td>\n",
       "      <td>Yemen</td>\n",
       "      <td>YEM</td>\n",
       "      <td>30975258</td>\n",
       "      <td>Asia</td>\n",
       "      <td>11806</td>\n",
       "      <td>2143</td>\n",
       "      <td>381</td>\n",
       "      <td>69</td>\n",
       "      <td>18.151787</td>\n",
       "    </tr>\n",
       "    <tr>\n",
       "      <th>223</th>\n",
       "      <td>Zambia</td>\n",
       "      <td>Zambia</td>\n",
       "      <td>ZMB</td>\n",
       "      <td>19284482</td>\n",
       "      <td>Africa</td>\n",
       "      <td>317076</td>\n",
       "      <td>3967</td>\n",
       "      <td>16442</td>\n",
       "      <td>206</td>\n",
       "      <td>1.251120</td>\n",
       "    </tr>\n",
       "    <tr>\n",
       "      <th>224</th>\n",
       "      <td>Zimbabwe</td>\n",
       "      <td>Zimbabwe</td>\n",
       "      <td>ZWE</td>\n",
       "      <td>15241601</td>\n",
       "      <td>Africa</td>\n",
       "      <td>246525</td>\n",
       "      <td>5446</td>\n",
       "      <td>16174</td>\n",
       "      <td>357</td>\n",
       "      <td>2.209107</td>\n",
       "    </tr>\n",
       "  </tbody>\n",
       "</table>\n",
       "<p>225 rows × 10 columns</p>\n",
       "</div>"
      ],
      "text/plain": [
       "               Country                Other names ISO 3166-1 alpha-3 CODE  \\\n",
       "0          Afghanistan                Afghanistan                     AFG   \n",
       "1              Albania                    Albania                     ALB   \n",
       "2              Algeria                    Algeria                     DZA   \n",
       "3              Andorra                    Andorra                     AND   \n",
       "4               Angola                     Angola                     AGO   \n",
       "..                 ...                        ...                     ...   \n",
       "220  Wallis and Futuna  Wallis and Futuna Islands                     WLF   \n",
       "221     Western Sahara             Western Sahara                   ESH??   \n",
       "222              Yemen                      Yemen                     YEM   \n",
       "223             Zambia                     Zambia                     ZMB   \n",
       "224           Zimbabwe                   Zimbabwe                     ZWE   \n",
       "\n",
       "     Population Continent  Total Cases  Total Deaths  TotalCases//1M pop  \\\n",
       "0      40462186      Asia       177827          7671                4395   \n",
       "1       2872296    Europe       273870          3492               95349   \n",
       "2      45236699    Africa       265691          6874                5873   \n",
       "3         77481    Europe        40024           153              516565   \n",
       "4      34654212    Africa        99194          1900                2862   \n",
       "..          ...       ...          ...           ...                 ...   \n",
       "220       10894   Oceania          454             7               41674   \n",
       "221      623031    Africa           10             1                  16   \n",
       "222    30975258      Asia        11806          2143                 381   \n",
       "223    19284482    Africa       317076          3967               16442   \n",
       "224    15241601    Africa       246525          5446               16174   \n",
       "\n",
       "     TotalDeaths/1M pop  Death percentage  \n",
       "0                   190          4.313743  \n",
       "1                  1216          1.275058  \n",
       "2                   152          2.587216  \n",
       "3                  1975          0.382271  \n",
       "4                    55          1.915438  \n",
       "..                  ...               ...  \n",
       "220                 643          1.541850  \n",
       "221                   2         10.000000  \n",
       "222                  69         18.151787  \n",
       "223                 206          1.251120  \n",
       "224                 357          2.209107  \n",
       "\n",
       "[225 rows x 10 columns]"
      ]
     },
     "execution_count": 13,
     "metadata": {},
     "output_type": "execute_result"
    }
   ],
   "source": [
    "df.fillna(0)"
   ]
  },
  {
   "cell_type": "code",
   "execution_count": 14,
   "id": "02289da8",
   "metadata": {
    "execution": {
     "iopub.execute_input": "2022-04-29T17:02:35.605615Z",
     "iopub.status.busy": "2022-04-29T17:02:35.604883Z",
     "iopub.status.idle": "2022-04-29T17:02:35.613818Z",
     "shell.execute_reply": "2022-04-29T17:02:35.612973Z"
    },
    "papermill": {
     "duration": 0.067757,
     "end_time": "2022-04-29T17:02:35.615786",
     "exception": false,
     "start_time": "2022-04-29T17:02:35.548029",
     "status": "completed"
    },
    "tags": []
   },
   "outputs": [
    {
     "data": {
      "text/plain": [
       "Country                    0\n",
       "Other names                1\n",
       "ISO 3166-1 alpha-3 CODE    0\n",
       "Population                 0\n",
       "Continent                  0\n",
       "Total Cases                0\n",
       "Total Deaths               0\n",
       "TotalCases//1M pop         0\n",
       "TotalDeaths/1M pop         0\n",
       "Death percentage           0\n",
       "dtype: int64"
      ]
     },
     "execution_count": 14,
     "metadata": {},
     "output_type": "execute_result"
    }
   ],
   "source": [
    "df.isna().sum()"
   ]
  },
  {
   "cell_type": "markdown",
   "id": "fb5d8cb4",
   "metadata": {
    "papermill": {
     "duration": 0.055829,
     "end_time": "2022-04-29T17:02:35.725812",
     "exception": false,
     "start_time": "2022-04-29T17:02:35.669983",
     "status": "completed"
    },
    "tags": []
   },
   "source": [
    "**Other names feature is very much the same as Country. So it would be fine to drop the column**"
   ]
  },
  {
   "cell_type": "code",
   "execution_count": 15,
   "id": "72abb64e",
   "metadata": {
    "execution": {
     "iopub.execute_input": "2022-04-29T17:02:35.840713Z",
     "iopub.status.busy": "2022-04-29T17:02:35.840356Z",
     "iopub.status.idle": "2022-04-29T17:02:35.846197Z",
     "shell.execute_reply": "2022-04-29T17:02:35.845491Z"
    },
    "papermill": {
     "duration": 0.065843,
     "end_time": "2022-04-29T17:02:35.848042",
     "exception": false,
     "start_time": "2022-04-29T17:02:35.782199",
     "status": "completed"
    },
    "tags": []
   },
   "outputs": [],
   "source": [
    "df=df.drop('Other names', axis=1)"
   ]
  },
  {
   "cell_type": "code",
   "execution_count": 16,
   "id": "79c6489f",
   "metadata": {
    "execution": {
     "iopub.execute_input": "2022-04-29T17:02:35.964451Z",
     "iopub.status.busy": "2022-04-29T17:02:35.963480Z",
     "iopub.status.idle": "2022-04-29T17:02:35.974030Z",
     "shell.execute_reply": "2022-04-29T17:02:35.973075Z"
    },
    "papermill": {
     "duration": 0.072147,
     "end_time": "2022-04-29T17:02:35.976525",
     "exception": false,
     "start_time": "2022-04-29T17:02:35.904378",
     "status": "completed"
    },
    "tags": []
   },
   "outputs": [],
   "source": [
    "num_features = df.select_dtypes(exclude= 'object').columns.tolist()\n",
    "cat_features = df.select_dtypes(include= 'object').columns.tolist()\n"
   ]
  },
  {
   "cell_type": "code",
   "execution_count": 17,
   "id": "aad0f927",
   "metadata": {
    "execution": {
     "iopub.execute_input": "2022-04-29T17:02:36.091870Z",
     "iopub.status.busy": "2022-04-29T17:02:36.091289Z",
     "iopub.status.idle": "2022-04-29T17:02:44.794281Z",
     "shell.execute_reply": "2022-04-29T17:02:44.793634Z"
    },
    "papermill": {
     "duration": 8.762909,
     "end_time": "2022-04-29T17:02:44.796862",
     "exception": false,
     "start_time": "2022-04-29T17:02:36.033953",
     "status": "completed"
    },
    "tags": []
   },
   "outputs": [
    {
     "data": {
      "text/plain": [
       "<seaborn.axisgrid.PairGrid at 0x25b687debe0>"
      ]
     },
     "execution_count": 17,
     "metadata": {},
     "output_type": "execute_result"
    },
    {
     "data": {
      "image/png": "[encoded data removed]",
      "text/plain": [
       "<Figure size 1080x1080 with 42 Axes>"
      ]
     },
     "metadata": {
      "needs_background": "light"
     },
     "output_type": "display_data"
    }
   ],
   "source": [
    "sns.pairplot(df)"
   ]
  },
  {
   "cell_type": "markdown",
   "id": "4c6089ba",
   "metadata": {
    "papermill": {
     "duration": 0.060249,
     "end_time": "2022-04-29T17:02:45.037974",
     "exception": false,
     "start_time": "2022-04-29T17:02:44.977725",
     "status": "completed"
    },
    "tags": []
   },
   "source": [
    "**Total Deaths by Continent**"
   ]
  },
  {
   "cell_type": "code",
   "execution_count": 18,
   "id": "9f55de66",
   "metadata": {
    "execution": {
     "iopub.execute_input": "2022-04-29T17:02:45.160371Z",
     "iopub.status.busy": "2022-04-29T17:02:45.159803Z",
     "iopub.status.idle": "2022-04-29T17:02:45.354926Z",
     "shell.execute_reply": "2022-04-29T17:02:45.353986Z"
    },
    "papermill": {
     "duration": 0.258619,
     "end_time": "2022-04-29T17:02:45.356900",
     "exception": false,
     "start_time": "2022-04-29T17:02:45.098281",
     "status": "completed"
    },
    "tags": []
   },
   "outputs": [
    {
     "data": {
      "text/plain": [
       "<AxesSubplot:ylabel='Continent'>"
      ]
     },
     "execution_count": 18,
     "metadata": {},
     "output_type": "execute_result"
    },
    {
     "data": {
      "image/png": "[encoded data removed]",
      "text/plain": [
       "<Figure size 432x288 with 1 Axes>"
      ]
     },
     "metadata": {
      "needs_background": "light"
     },
     "output_type": "display_data"
    }
   ],
   "source": [
    "pd.DataFrame(df.groupby('Continent')['Total Deaths'].sum().sort_values()).plot(kind='barh')\n"
   ]
  },
  {
   "cell_type": "markdown",
   "id": "d6512201",
   "metadata": {
    "papermill": {
     "duration": 0.061163,
     "end_time": "2022-04-29T17:02:45.479447",
     "exception": false,
     "start_time": "2022-04-29T17:02:45.418284",
     "status": "completed"
    },
    "tags": []
   },
   "source": [
    "**Total Deaths by Country**"
   ]
  },
  {
   "cell_type": "code",
   "execution_count": 19,
   "id": "77f6b757",
   "metadata": {
    "execution": {
     "iopub.execute_input": "2022-04-29T17:02:45.604228Z",
     "iopub.status.busy": "2022-04-29T17:02:45.603935Z",
     "iopub.status.idle": "2022-04-29T17:02:45.848760Z",
     "shell.execute_reply": "2022-04-29T17:02:45.848032Z"
    },
    "papermill": {
     "duration": 0.310221,
     "end_time": "2022-04-29T17:02:45.850811",
     "exception": false,
     "start_time": "2022-04-29T17:02:45.540590",
     "status": "completed"
    },
    "tags": []
   },
   "outputs": [
    {
     "data": {
      "text/plain": [
       "<AxesSubplot:ylabel='Country'>"
      ]
     },
     "execution_count": 19,
     "metadata": {},
     "output_type": "execute_result"
    },
    {
     "data": {
      "image/png": "[encoded data removed]",
      "text/plain": [
       "<Figure size 432x288 with 1 Axes>"
      ]
     },
     "metadata": {
      "needs_background": "light"
     },
     "output_type": "display_data"
    }
   ],
   "source": [
    "pd.DataFrame(df.groupby('Country')['Total Deaths'].sum().nlargest(10)).plot(kind='barh')\n"
   ]
  },
  {
   "cell_type": "markdown",
   "id": "14b51943",
   "metadata": {
    "papermill": {
     "duration": 0.063066,
     "end_time": "2022-04-29T17:02:45.976658",
     "exception": false,
     "start_time": "2022-04-29T17:02:45.913592",
     "status": "completed"
    },
    "tags": []
   },
   "source": [
    "****"
   ]
  },
  {
   "cell_type": "markdown",
   "id": "bb36133f",
   "metadata": {
    "papermill": {
     "duration": 0.062656,
     "end_time": "2022-04-29T17:02:46.102471",
     "exception": false,
     "start_time": "2022-04-29T17:02:46.039815",
     "status": "completed"
    },
    "tags": []
   },
   "source": [
    "**Death Percentage by Continent**"
   ]
  },
  {
   "cell_type": "code",
   "execution_count": 20,
   "id": "caa3cb15",
   "metadata": {
    "execution": {
     "iopub.execute_input": "2022-04-29T17:02:46.234955Z",
     "iopub.status.busy": "2022-04-29T17:02:46.234666Z",
     "iopub.status.idle": "2022-04-29T17:02:46.477896Z",
     "shell.execute_reply": "2022-04-29T17:02:46.477248Z"
    },
    "papermill": {
     "duration": 0.310744,
     "end_time": "2022-04-29T17:02:46.479835",
     "exception": false,
     "start_time": "2022-04-29T17:02:46.169091",
     "status": "completed"
    },
    "tags": []
   },
   "outputs": [
    {
     "data": {
      "text/plain": [
       "<AxesSubplot:ylabel='Continent'>"
      ]
     },
     "execution_count": 20,
     "metadata": {},
     "output_type": "execute_result"
    },
    {
     "data": {
      "image/png": "[encoded data removed]",
      "text/plain": [
       "<Figure size 432x288 with 1 Axes>"
      ]
     },
     "metadata": {
      "needs_background": "light"
     },
     "output_type": "display_data"
    }
   ],
   "source": [
    "pd.DataFrame(df.groupby('Continent')['Death percentage'].mean().sort_values()).plot(kind='barh')"
   ]
  },
  {
   "cell_type": "markdown",
   "id": "08e40b6d",
   "metadata": {
    "papermill": {
     "duration": 0.063256,
     "end_time": "2022-04-29T17:02:46.606838",
     "exception": false,
     "start_time": "2022-04-29T17:02:46.543582",
     "status": "completed"
    },
    "tags": []
   },
   "source": [
    "**Africa, Asia and South America have higher death percentages**"
   ]
  },
  {
   "cell_type": "markdown",
   "id": "00775b19",
   "metadata": {
    "papermill": {
     "duration": 0.068066,
     "end_time": "2022-04-29T17:02:46.738331",
     "exception": false,
     "start_time": "2022-04-29T17:02:46.670265",
     "status": "completed"
    },
    "tags": []
   },
   "source": [
    "**Top 15 countries with high Death Percentage**"
   ]
  },
  {
   "cell_type": "code",
   "execution_count": 21,
   "id": "dde630d8",
   "metadata": {
    "execution": {
     "iopub.execute_input": "2022-04-29T17:02:46.869569Z",
     "iopub.status.busy": "2022-04-29T17:02:46.869142Z",
     "iopub.status.idle": "2022-04-29T17:02:47.169610Z",
     "shell.execute_reply": "2022-04-29T17:02:47.168742Z"
    },
    "papermill": {
     "duration": 0.369301,
     "end_time": "2022-04-29T17:02:47.171898",
     "exception": false,
     "start_time": "2022-04-29T17:02:46.802597",
     "status": "completed"
    },
    "tags": []
   },
   "outputs": [
    {
     "data": {
      "text/plain": [
       "<AxesSubplot:ylabel='Country'>"
      ]
     },
     "execution_count": 21,
     "metadata": {},
     "output_type": "execute_result"
    },
    {
     "data": {
      "image/png": "[encoded data removed]",
      "text/plain": [
       "<Figure size 432x288 with 1 Axes>"
      ]
     },
     "metadata": {
      "needs_background": "light"
     },
     "output_type": "display_data"
    }
   ],
   "source": [
    "pd.DataFrame(df.groupby('Country')['Death percentage'].mean().nlargest(15)).plot(kind='barh')"
   ]
  },
  {
   "cell_type": "markdown",
   "id": "1a427ef2",
   "metadata": {
    "papermill": {
     "duration": 0.065676,
     "end_time": "2022-04-29T17:02:47.302542",
     "exception": false,
     "start_time": "2022-04-29T17:02:47.236866",
     "status": "completed"
    },
    "tags": []
   },
   "source": [
    "**As expected from previous plot, African, South American and Asian Countries have higher death percentage when infected by covid.**"
   ]
  },
  {
   "cell_type": "code",
   "execution_count": 22,
   "id": "5c7c2dab",
   "metadata": {
    "execution": {
     "iopub.execute_input": "2022-04-29T17:02:47.434282Z",
     "iopub.status.busy": "2022-04-29T17:02:47.433856Z",
     "iopub.status.idle": "2022-04-29T17:02:47.696127Z",
     "shell.execute_reply": "2022-04-29T17:02:47.695131Z"
    },
    "papermill": {
     "duration": 0.330809,
     "end_time": "2022-04-29T17:02:47.698244",
     "exception": false,
     "start_time": "2022-04-29T17:02:47.367435",
     "status": "completed"
    },
    "tags": []
   },
   "outputs": [
    {
     "data": {
      "text/plain": [
       "<AxesSubplot:ylabel='Continent'>"
      ]
     },
     "execution_count": 22,
     "metadata": {},
     "output_type": "execute_result"
    },
    {
     "data": {
      "image/png": "[encoded data removed]",
      "text/plain": [
       "<Figure size 432x288 with 1 Axes>"
      ]
     },
     "metadata": {
      "needs_background": "light"
     },
     "output_type": "display_data"
    }
   ],
   "source": [
    "pd.DataFrame(df.groupby('Continent')['Total Deaths','Total Cases'].sum()).plot(kind='barh')\n"
   ]
  },
  {
   "cell_type": "code",
   "execution_count": 23,
   "id": "f3d750e0",
   "metadata": {
    "execution": {
     "iopub.execute_input": "2022-04-29T17:02:47.835473Z",
     "iopub.status.busy": "2022-04-29T17:02:47.835161Z",
     "iopub.status.idle": "2022-04-29T17:02:48.237285Z",
     "shell.execute_reply": "2022-04-29T17:02:48.236310Z"
    },
    "papermill": {
     "duration": 0.472077,
     "end_time": "2022-04-29T17:02:48.239311",
     "exception": false,
     "start_time": "2022-04-29T17:02:47.767234",
     "status": "completed"
    },
    "tags": []
   },
   "outputs": [
    {
     "data": {
      "text/plain": [
       "<AxesSubplot:xlabel='Population', ylabel='Total Deaths'>"
      ]
     },
     "execution_count": 23,
     "metadata": {},
     "output_type": "execute_result"
    },
    {
     "data": {
      "image/png": "[encoded data removed]",
      "text/plain": [
       "<Figure size 576x432 with 1 Axes>"
      ]
     },
     "metadata": {
      "needs_background": "light"
     },
     "output_type": "display_data"
    }
   ],
   "source": [
    "plt.figure(figsize=(8,6))\n",
    "\n",
    "sns.scatterplot(x=df['Population'], y=df['Total Deaths'], hue=df['Continent'])"
   ]
  },
  {
   "cell_type": "code",
   "execution_count": 24,
   "id": "a12d8918",
   "metadata": {
    "execution": {
     "iopub.execute_input": "2022-04-29T17:02:48.378044Z",
     "iopub.status.busy": "2022-04-29T17:02:48.377758Z",
     "iopub.status.idle": "2022-04-29T17:02:48.904323Z",
     "shell.execute_reply": "2022-04-29T17:02:48.903708Z"
    },
    "papermill": {
     "duration": 0.598251,
     "end_time": "2022-04-29T17:02:48.906374",
     "exception": false,
     "start_time": "2022-04-29T17:02:48.308123",
     "status": "completed"
    },
    "tags": []
   },
   "outputs": [
    {
     "data": {
      "image/png": "[encoded data removed]",
      "text/plain": [
       "<Figure size 576x432 with 1 Axes>"
      ]
     },
     "metadata": {
      "needs_background": "light"
     },
     "output_type": "display_data"
    }
   ],
   "source": [
    "plt.figure(figsize=(8,6))\n",
    "\n",
    "sns.set_style(\"whitegrid\")\n",
    "\n",
    "plt.suptitle('Population vs Death Percentage')\n",
    "sns.scatterplot(x=df['Population'], y=df['Death percentage'], hue=df['Continent'])\n",
    "sns.despine(offset = 10)\n"
   ]
  },
  {
   "cell_type": "code",
   "execution_count": 25,
   "id": "07ed7021",
   "metadata": {
    "execution": {
     "iopub.execute_input": "2022-04-29T17:02:49.102190Z",
     "iopub.status.busy": "2022-04-29T17:02:49.101757Z",
     "iopub.status.idle": "2022-04-29T17:02:49.415840Z",
     "shell.execute_reply": "2022-04-29T17:02:49.414911Z"
    },
    "papermill": {
     "duration": 0.441169,
     "end_time": "2022-04-29T17:02:49.417783",
     "exception": false,
     "start_time": "2022-04-29T17:02:48.976614",
     "status": "completed"
    },
    "tags": []
   },
   "outputs": [
    {
     "data": {
      "image/png": "[encoded data removed]",
      "text/plain": [
       "<Figure size 576x432 with 1 Axes>"
      ]
     },
     "metadata": {},
     "output_type": "display_data"
    }
   ],
   "source": [
    "plt.figure(figsize=(8,6))\n",
    "\n",
    "plt.suptitle('Distribution of Deaths of countries in a continent')\n",
    "sns.boxplot(x=df['Continent'] , y=df['Total Deaths'])\n",
    "plt.ylim(0, 0.4e6)\n",
    "sns.despine(offset = 20)\n",
    "plt.xticks(rotation=45)\n",
    "plt.tight_layout()"
   ]
  }
 ],
 "metadata": {
  "kernelspec": {
   "display_name": "Python 3 (ipykernel)",
   "language": "python",
   "name": "python3"
  },
  "language_info": {
   "codemirror_mode": {
    "name": "ipython",
    "version": 3
   },
   "file_extension": ".py",
   "mimetype": "text/x-python",
   "name": "python",
   "nbconvert_exporter": "python",
   "pygments_lexer": "ipython3",
   "version": "3.8.10"
  },
  "papermill": {
   "default_parameters": {},
   "duration": 33.484391,
   "end_time": "2022-04-29T17:02:51.101474",
   "environment_variables": {},
   "exception": null,
   "input_path": "__notebook__.ipynb",
   "output_path": "__notebook__.ipynb",
   "parameters": {},
   "start_time": "2022-04-29T17:02:17.617083",
   "version": "2.3.4"
  },
  "widgets": {
   "application/vnd.jupyter.widget-state+json": {
    "state": {
     "0d219470306a42dc8c27fbe3c505306a": {
      "model_module": "@jupyter-widgets/base",
      "model_module_version": "1.2.0",
      "model_name": "LayoutModel",
      "state": {
       "_model_module": "@jupyter-widgets/base",
       "_model_module_version": "1.2.0",
       "_model_name": "LayoutModel",
       "_view_count": null,
       "_view_module": "@jupyter-widgets/base",
       "_view_module_version": "1.2.0",
       "_view_name": "LayoutView",
       "align_content": null,
       "align_items": null,
       "align_self": null,
       "border": null,
       "bottom": null,
       "display": null,
       "flex": null,
       "flex_flow": null,
       "grid_area": null,
       "grid_auto_columns": null,
       "grid_auto_flow": null,
       "grid_auto_rows": null,
       "grid_column": null,
       "grid_gap": null,
       "grid_row": null,
       "grid_template_areas": null,
       "grid_template_columns": null,
       "grid_template_rows": null,
       "height": null,
       "justify_content": null,
       "justify_items": null,
       "left": null,
       "margin": null,
       "max_height": null,
       "max_width": null,
       "min_height": null,
       "min_width": null,
       "object_fit": null,
       "object_position": null,
       "order": null,
       "overflow": null,
       "overflow_x": null,
       "overflow_y": null,
       "padding": null,
       "right": null,
       "top": null,
       "visibility": null,
       "width": null
      }
     },
     "1351950af32144349aeca641dd4f1a48": {
      "model_module": "@jupyter-widgets/controls",
      "model_module_version": "1.5.0",
      "model_name": "DescriptionStyleModel",
      "state": {
       "_model_module": "@jupyter-widgets/controls",
       "_model_module_version": "1.5.0",
       "_model_name": "DescriptionStyleModel",
       "_view_count": null,
       "_view_module": "@jupyter-widgets/base",
       "_view_module_version": "1.2.0",
       "_view_name": "StyleView",
       "description_width": ""
      }
     },
     "2212202bcaa84d598362b648c33670d0": {
      "model_module": "@jupyter-widgets/controls",
      "model_module_version": "1.5.0",
      "model_name": "DescriptionStyleModel",
      "state": {
       "_model_module": "@jupyter-widgets/controls",
       "_model_module_version": "1.5.0",
       "_model_name": "DescriptionStyleModel",
       "_view_count": null,
       "_view_module": "@jupyter-widgets/base",
       "_view_module_version": "1.2.0",
       "_view_name": "StyleView",
       "description_width": ""
      }
     },
     "2525e93c8dd74e1a814e423d392715c6": {
      "model_module": "@jupyter-widgets/controls",
      "model_module_version": "1.5.0",
      "model_name": "ProgressStyleModel",
      "state": {
       "_model_module": "@jupyter-widgets/controls",
       "_model_module_version": "1.5.0",
       "_model_name": "ProgressStyleModel",
       "_view_count": null,
       "_view_module": "@jupyter-widgets/base",
       "_view_module_version": "1.2.0",
       "_view_name": "StyleView",
       "bar_color": null,
       "description_width": ""
      }
     },
     "398fff67048c4128b3e98bf3d211c154": {
      "model_module": "@jupyter-widgets/base",
      "model_module_version": "1.2.0",
      "model_name": "LayoutModel",
      "state": {
       "_model_module": "@jupyter-widgets/base",
       "_model_module_version": "1.2.0",
       "_model_name": "LayoutModel",
       "_view_count": null,
       "_view_module": "@jupyter-widgets/base",
       "_view_module_version": "1.2.0",
       "_view_name": "LayoutView",
       "align_content": null,
       "align_items": null,
       "align_self": null,
       "border": null,
       "bottom": null,
       "display": null,
       "flex": null,
       "flex_flow": null,
       "grid_area": null,
       "grid_auto_columns": null,
       "grid_auto_flow": null,
       "grid_auto_rows": null,
       "grid_column": null,
       "grid_gap": null,
       "grid_row": null,
       "grid_template_areas": null,
       "grid_template_columns": null,
       "grid_template_rows": null,
       "height": null,
       "justify_content": null,
       "justify_items": null,
       "left": null,
       "margin": null,
       "max_height": null,
       "max_width": null,
       "min_height": null,
       "min_width": null,
       "object_fit": null,
       "object_position": null,
       "order": null,
       "overflow": null,
       "overflow_x": null,
       "overflow_y": null,
       "padding": null,
       "right": null,
       "top": null,
       "visibility": null,
       "width": null
      }
     },
     "3fcda185301f4d8d9bf3c6a28576eb43": {
      "model_module": "@jupyter-widgets/base",
      "model_module_version": "1.2.0",
      "model_name": "LayoutModel",
      "state": {
       "_model_module": "@jupyter-widgets/base",
       "_model_module_version": "1.2.0",
       "_model_name": "LayoutModel",
       "_view_count": null,
       "_view_module": "@jupyter-widgets/base",
       "_view_module_version": "1.2.0",
       "_view_name": "LayoutView",
       "align_content": null,
       "align_items": null,
       "align_self": null,
       "border": null,
       "bottom": null,
       "display": null,
       "flex": null,
       "flex_flow": null,
       "grid_area": null,
       "grid_auto_columns": null,
       "grid_auto_flow": null,
       "grid_auto_rows": null,
       "grid_column": null,
       "grid_gap": null,
       "grid_row": null,
       "grid_template_areas": null,
       "grid_template_columns": null,
       "grid_template_rows": null,
       "height": null,
       "justify_content": null,
       "justify_items": null,
       "left": null,
       "margin": null,
       "max_height": null,
       "max_width": null,
       "min_height": null,
       "min_width": null,
       "object_fit": null,
       "object_position": null,
       "order": null,
       "overflow": null,
       "overflow_x": null,
       "overflow_y": null,
       "padding": null,
       "right": null,
       "top": null,
       "visibility": null,
       "width": null
      }
     },
     "56b9f556b024436cb7e08263d99e73a7": {
      "model_module": "@jupyter-widgets/base",
      "model_module_version": "1.2.0",
      "model_name": "LayoutModel",
      "state": {
       "_model_module": "@jupyter-widgets/base",
       "_model_module_version": "1.2.0",
       "_model_name": "LayoutModel",
       "_view_count": null,
       "_view_module": "@jupyter-widgets/base",
       "_view_module_version": "1.2.0",
       "_view_name": "LayoutView",
       "align_content": null,
       "align_items": null,
       "align_self": null,
       "border": null,
       "bottom": null,
       "display": null,
       "flex": null,
       "flex_flow": null,
       "grid_area": null,
       "grid_auto_columns": null,
       "grid_auto_flow": null,
       "grid_auto_rows": null,
       "grid_column": null,
       "grid_gap": null,
       "grid_row": null,
       "grid_template_areas": null,
       "grid_template_columns": null,
       "grid_template_rows": null,
       "height": null,
       "justify_content": null,
       "justify_items": null,
       "left": null,
       "margin": null,
       "max_height": null,
       "max_width": null,
       "min_height": null,
       "min_width": null,
       "object_fit": null,
       "object_position": null,
       "order": null,
       "overflow": null,
       "overflow_x": null,
       "overflow_y": null,
       "padding": null,
       "right": null,
       "top": null,
       "visibility": null,
       "width": null
      }
     },
     "65ed7cf85f7648708891066d277f7800": {
      "model_module": "@jupyter-widgets/base",
      "model_module_version": "1.2.0",
      "model_name": "LayoutModel",
      "state": {
       "_model_module": "@jupyter-widgets/base",
       "_model_module_version": "1.2.0",
       "_model_name": "LayoutModel",
       "_view_count": null,
       "_view_module": "@jupyter-widgets/base",
       "_view_module_version": "1.2.0",
       "_view_name": "LayoutView",
       "align_content": null,
       "align_items": null,
       "align_self": null,
       "border": null,
       "bottom": null,
       "display": null,
       "flex": null,
       "flex_flow": null,
       "grid_area": null,
       "grid_auto_columns": null,
       "grid_auto_flow": null,
       "grid_auto_rows": null,
       "grid_column": null,
       "grid_gap": null,
       "grid_row": null,
       "grid_template_areas": null,
       "grid_template_columns": null,
       "grid_template_rows": null,
       "height": null,
       "justify_content": null,
       "justify_items": null,
       "left": null,
       "margin": null,
       "max_height": null,
       "max_width": null,
       "min_height": null,
       "min_width": null,
       "object_fit": null,
       "object_position": null,
       "order": null,
       "overflow": null,
       "overflow_x": null,
       "overflow_y": null,
       "padding": null,
       "right": null,
       "top": null,
       "visibility": null,
       "width": null
      }
     },
     "6dfb4090ac614155a4a28999b2436560": {
      "model_module": "@jupyter-widgets/base",
      "model_module_version": "1.2.0",
      "model_name": "LayoutModel",
      "state": {
       "_model_module": "@jupyter-widgets/base",
       "_model_module_version": "1.2.0",
       "_model_name": "LayoutModel",
       "_view_count": null,
       "_view_module": "@jupyter-widgets/base",
       "_view_module_version": "1.2.0",
       "_view_name": "LayoutView",
       "align_content": null,
       "align_items": null,
       "align_self": null,
       "border": null,
       "bottom": null,
       "display": null,
       "flex": null,
       "flex_flow": null,
       "grid_area": null,
       "grid_auto_columns": null,
       "grid_auto_flow": null,
       "grid_auto_rows": null,
       "grid_column": null,
       "grid_gap": null,
       "grid_row": null,
       "grid_template_areas": null,
       "grid_template_columns": null,
       "grid_template_rows": null,
       "height": null,
       "justify_content": null,
       "justify_items": null,
       "left": null,
       "margin": null,
       "max_height": null,
       "max_width": null,
       "min_height": null,
       "min_width": null,
       "object_fit": null,
       "object_position": null,
       "order": null,
       "overflow": null,
       "overflow_x": null,
       "overflow_y": null,
       "padding": null,
       "right": null,
       "top": null,
       "visibility": null,
       "width": null
      }
     },
     "71e58ba56f4c42169d118e798bd677ed": {
      "model_module": "@jupyter-widgets/controls",
      "model_module_version": "1.5.0",
      "model_name": "HBoxModel",
      "state": {
       "_dom_classes": [],
       "_model_module": "@jupyter-widgets/controls",
       "_model_module_version": "1.5.0",
       "_model_name": "HBoxModel",
       "_view_count": null,
       "_view_module": "@jupyter-widgets/controls",
       "_view_module_version": "1.5.0",
       "_view_name": "HBoxView",
       "box_style": "",
       "children": [
        "IPY_MODEL_bf79614991fa48eabbcfc6c6537f4439",
        "IPY_MODEL_bf26f031e21b4a3eab83d68785e32e2d",
        "IPY_MODEL_7b7005ce1d904db1bbbf2fc7ddac61d6"
       ],
       "layout": "IPY_MODEL_398fff67048c4128b3e98bf3d211c154"
      }
     },
     "78d9d84ec1dd4394892014b0c48c0722": {
      "model_module": "@jupyter-widgets/controls",
      "model_module_version": "1.5.0",
      "model_name": "HBoxModel",
      "state": {
       "_dom_classes": [],
       "_model_module": "@jupyter-widgets/controls",
       "_model_module_version": "1.5.0",
       "_model_name": "HBoxModel",
       "_view_count": null,
       "_view_module": "@jupyter-widgets/controls",
       "_view_module_version": "1.5.0",
       "_view_name": "HBoxView",
       "box_style": "",
       "children": [
        "IPY_MODEL_908b3a4cc89348bdbf599332b8f1d355",
        "IPY_MODEL_e8bb36fb288d4224939115f822007d63",
        "IPY_MODEL_947c25445c3643f6bcc84d48c65babed"
       ],
       "layout": "IPY_MODEL_ebb63b3694a744029270427be4dfe1b0"
      }
     },
     "7b7005ce1d904db1bbbf2fc7ddac61d6": {
      "model_module": "@jupyter-widgets/controls",
      "model_module_version": "1.5.0",
      "model_name": "HTMLModel",
      "state": {
       "_dom_classes": [],
       "_model_module": "@jupyter-widgets/controls",
       "_model_module_version": "1.5.0",
       "_model_name": "HTMLModel",
       "_view_count": null,
       "_view_module": "@jupyter-widgets/controls",
       "_view_module_version": "1.5.0",
       "_view_name": "HTMLView",
       "description": "",
       "description_tooltip": null,
       "layout": "IPY_MODEL_fb723cd661334650bcdc20daf2b1d3d8",
       "placeholder": "​",
       "style": "IPY_MODEL_bb1f1efaf05d4c7dafc3db8e937f212f",
       "value": " 16/16 [00:00&lt;00:00, 47.94it/s, Completed]"
      }
     },
     "8bfaf300d77f4de597012c220ef4f796": {
      "model_module": "@jupyter-widgets/controls",
      "model_module_version": "1.5.0",
      "model_name": "HTMLModel",
      "state": {
       "_dom_classes": [],
       "_model_module": "@jupyter-widgets/controls",
       "_model_module_version": "1.5.0",
       "_model_name": "HTMLModel",
       "_view_count": null,
       "_view_module": "@jupyter-widgets/controls",
       "_view_module_version": "1.5.0",
       "_view_name": "HTMLView",
       "description": "",
       "description_tooltip": null,
       "layout": "IPY_MODEL_56b9f556b024436cb7e08263d99e73a7",
       "placeholder": "​",
       "style": "IPY_MODEL_b3a09e53408942efaae4ebe052203f30",
       "value": "Generate report structure: 100%"
      }
     },
     "908b3a4cc89348bdbf599332b8f1d355": {
      "model_module": "@jupyter-widgets/controls",
      "model_module_version": "1.5.0",
      "model_name": "HTMLModel",
      "state": {
       "_dom_classes": [],
       "_model_module": "@jupyter-widgets/controls",
       "_model_module_version": "1.5.0",
       "_model_name": "HTMLModel",
       "_view_count": null,
       "_view_module": "@jupyter-widgets/controls",
       "_view_module_version": "1.5.0",
       "_view_name": "HTMLView",
       "description": "",
       "description_tooltip": null,
       "layout": "IPY_MODEL_6dfb4090ac614155a4a28999b2436560",
       "placeholder": "​",
       "style": "IPY_MODEL_9f1f5ef488fb4ef7bcd34397c2fa9f99",
       "value": "Render HTML: 100%"
      }
     },
     "947c25445c3643f6bcc84d48c65babed": {
      "model_module": "@jupyter-widgets/controls",
      "model_module_version": "1.5.0",
      "model_name": "HTMLModel",
      "state": {
       "_dom_classes": [],
       "_model_module": "@jupyter-widgets/controls",
       "_model_module_version": "1.5.0",
       "_model_name": "HTMLModel",
       "_view_count": null,
       "_view_module": "@jupyter-widgets/controls",
       "_view_module_version": "1.5.0",
       "_view_name": "HTMLView",
       "description": "",
       "description_tooltip": null,
       "layout": "IPY_MODEL_c8d28e29b5b54f44a2c57e5953749053",
       "placeholder": "​",
       "style": "IPY_MODEL_2212202bcaa84d598362b648c33670d0",
       "value": " 1/1 [00:00&lt;00:00,  1.91it/s]"
      }
     },
     "96cc2f3019ae4edbb582ed11d289239b": {
      "model_module": "@jupyter-widgets/controls",
      "model_module_version": "1.5.0",
      "model_name": "ProgressStyleModel",
      "state": {
       "_model_module": "@jupyter-widgets/controls",
       "_model_module_version": "1.5.0",
       "_model_name": "ProgressStyleModel",
       "_view_count": null,
       "_view_module": "@jupyter-widgets/base",
       "_view_module_version": "1.2.0",
       "_view_name": "StyleView",
       "bar_color": null,
       "description_width": ""
      }
     },
     "9f1f5ef488fb4ef7bcd34397c2fa9f99": {
      "model_module": "@jupyter-widgets/controls",
      "model_module_version": "1.5.0",
      "model_name": "DescriptionStyleModel",
      "state": {
       "_model_module": "@jupyter-widgets/controls",
       "_model_module_version": "1.5.0",
       "_model_name": "DescriptionStyleModel",
       "_view_count": null,
       "_view_module": "@jupyter-widgets/base",
       "_view_module_version": "1.2.0",
       "_view_name": "StyleView",
       "description_width": ""
      }
     },
     "b3a09e53408942efaae4ebe052203f30": {
      "model_module": "@jupyter-widgets/controls",
      "model_module_version": "1.5.0",
      "model_name": "DescriptionStyleModel",
      "state": {
       "_model_module": "@jupyter-widgets/controls",
       "_model_module_version": "1.5.0",
       "_model_name": "DescriptionStyleModel",
       "_view_count": null,
       "_view_module": "@jupyter-widgets/base",
       "_view_module_version": "1.2.0",
       "_view_name": "StyleView",
       "description_width": ""
      }
     },
     "bb1f1efaf05d4c7dafc3db8e937f212f": {
      "model_module": "@jupyter-widgets/controls",
      "model_module_version": "1.5.0",
      "model_name": "DescriptionStyleModel",
      "state": {
       "_model_module": "@jupyter-widgets/controls",
       "_model_module_version": "1.5.0",
       "_model_name": "DescriptionStyleModel",
       "_view_count": null,
       "_view_module": "@jupyter-widgets/base",
       "_view_module_version": "1.2.0",
       "_view_name": "StyleView",
       "description_width": ""
      }
     },
     "bf26f031e21b4a3eab83d68785e32e2d": {
      "model_module": "@jupyter-widgets/controls",
      "model_module_version": "1.5.0",
      "model_name": "FloatProgressModel",
      "state": {
       "_dom_classes": [],
       "_model_module": "@jupyter-widgets/controls",
       "_model_module_version": "1.5.0",
       "_model_name": "FloatProgressModel",
       "_view_count": null,
       "_view_module": "@jupyter-widgets/controls",
       "_view_module_version": "1.5.0",
       "_view_name": "ProgressView",
       "bar_style": "success",
       "description": "",
       "description_tooltip": null,
       "layout": "IPY_MODEL_0d219470306a42dc8c27fbe3c505306a",
       "max": 5,
       "min": 0,
       "orientation": "horizontal",
       "style": "IPY_MODEL_cf409aa3bc844b8d9390ab1b2313da1e",
       "value": 5
      }
     },
     "bf79614991fa48eabbcfc6c6537f4439": {
      "model_module": "@jupyter-widgets/controls",
      "model_module_version": "1.5.0",
      "model_name": "HTMLModel",
      "state": {
       "_dom_classes": [],
       "_model_module": "@jupyter-widgets/controls",
       "_model_module_version": "1.5.0",
       "_model_name": "HTMLModel",
       "_view_count": null,
       "_view_module": "@jupyter-widgets/controls",
       "_view_module_version": "1.5.0",
       "_view_name": "HTMLView",
       "description": "",
       "description_tooltip": null,
       "layout": "IPY_MODEL_c6b83e4c36334a7f8aa948264340c860",
       "placeholder": "​",
       "style": "IPY_MODEL_d24e6e8e88c443df9027165ec35f8051",
       "value": "Summarize dataset: 100%"
      }
     },
     "c1c8b7529d04412782a9df0d2758902a": {
      "model_module": "@jupyter-widgets/base",
      "model_module_version": "1.2.0",
      "model_name": "LayoutModel",
      "state": {
       "_model_module": "@jupyter-widgets/base",
       "_model_module_version": "1.2.0",
       "_model_name": "LayoutModel",
       "_view_count": null,
       "_view_module": "@jupyter-widgets/base",
       "_view_module_version": "1.2.0",
       "_view_name": "LayoutView",
       "align_content": null,
       "align_items": null,
       "align_self": null,
       "border": null,
       "bottom": null,
       "display": null,
       "flex": null,
       "flex_flow": null,
       "grid_area": null,
       "grid_auto_columns": null,
       "grid_auto_flow": null,
       "grid_auto_rows": null,
       "grid_column": null,
       "grid_gap": null,
       "grid_row": null,
       "grid_template_areas": null,
       "grid_template_columns": null,
       "grid_template_rows": null,
       "height": null,
       "justify_content": null,
       "justify_items": null,
       "left": null,
       "margin": null,
       "max_height": null,
       "max_width": null,
       "min_height": null,
       "min_width": null,
       "object_fit": null,
       "object_position": null,
       "order": null,
       "overflow": null,
       "overflow_x": null,
       "overflow_y": null,
       "padding": null,
       "right": null,
       "top": null,
       "visibility": null,
       "width": null
      }
     },
     "c6b83e4c36334a7f8aa948264340c860": {
      "model_module": "@jupyter-widgets/base",
      "model_module_version": "1.2.0",
      "model_name": "LayoutModel",
      "state": {
       "_model_module": "@jupyter-widgets/base",
       "_model_module_version": "1.2.0",
       "_model_name": "LayoutModel",
       "_view_count": null,
       "_view_module": "@jupyter-widgets/base",
       "_view_module_version": "1.2.0",
       "_view_name": "LayoutView",
       "align_content": null,
       "align_items": null,
       "align_self": null,
       "border": null,
       "bottom": null,
       "display": null,
       "flex": null,
       "flex_flow": null,
       "grid_area": null,
       "grid_auto_columns": null,
       "grid_auto_flow": null,
       "grid_auto_rows": null,
       "grid_column": null,
       "grid_gap": null,
       "grid_row": null,
       "grid_template_areas": null,
       "grid_template_columns": null,
       "grid_template_rows": null,
       "height": null,
       "justify_content": null,
       "justify_items": null,
       "left": null,
       "margin": null,
       "max_height": null,
       "max_width": null,
       "min_height": null,
       "min_width": null,
       "object_fit": null,
       "object_position": null,
       "order": null,
       "overflow": null,
       "overflow_x": null,
       "overflow_y": null,
       "padding": null,
       "right": null,
       "top": null,
       "visibility": null,
       "width": null
      }
     },
     "c8d28e29b5b54f44a2c57e5953749053": {
      "model_module": "@jupyter-widgets/base",
      "model_module_version": "1.2.0",
      "model_name": "LayoutModel",
      "state": {
       "_model_module": "@jupyter-widgets/base",
       "_model_module_version": "1.2.0",
       "_model_name": "LayoutModel",
       "_view_count": null,
       "_view_module": "@jupyter-widgets/base",
       "_view_module_version": "1.2.0",
       "_view_name": "LayoutView",
       "align_content": null,
       "align_items": null,
       "align_self": null,
       "border": null,
       "bottom": null,
       "display": null,
       "flex": null,
       "flex_flow": null,
       "grid_area": null,
       "grid_auto_columns": null,
       "grid_auto_flow": null,
       "grid_auto_rows": null,
       "grid_column": null,
       "grid_gap": null,
       "grid_row": null,
       "grid_template_areas": null,
       "grid_template_columns": null,
       "grid_template_rows": null,
       "height": null,
       "justify_content": null,
       "justify_items": null,
       "left": null,
       "margin": null,
       "max_height": null,
       "max_width": null,
       "min_height": null,
       "min_width": null,
       "object_fit": null,
       "object_position": null,
       "order": null,
       "overflow": null,
       "overflow_x": null,
       "overflow_y": null,
       "padding": null,
       "right": null,
       "top": null,
       "visibility": null,
       "width": null
      }
     },
     "cf409aa3bc844b8d9390ab1b2313da1e": {
      "model_module": "@jupyter-widgets/controls",
      "model_module_version": "1.5.0",
      "model_name": "ProgressStyleModel",
      "state": {
       "_model_module": "@jupyter-widgets/controls",
       "_model_module_version": "1.5.0",
       "_model_name": "ProgressStyleModel",
       "_view_count": null,
       "_view_module": "@jupyter-widgets/base",
       "_view_module_version": "1.2.0",
       "_view_name": "StyleView",
       "bar_color": null,
       "description_width": ""
      }
     },
     "cf616a94046845d690813fee38631f94": {
      "model_module": "@jupyter-widgets/controls",
      "model_module_version": "1.5.0",
      "model_name": "HBoxModel",
      "state": {
       "_dom_classes": [],
       "_model_module": "@jupyter-widgets/controls",
       "_model_module_version": "1.5.0",
       "_model_name": "HBoxModel",
       "_view_count": null,
       "_view_module": "@jupyter-widgets/controls",
       "_view_module_version": "1.5.0",
       "_view_name": "HBoxView",
       "box_style": "",
       "children": [
        "IPY_MODEL_8bfaf300d77f4de597012c220ef4f796",
        "IPY_MODEL_e1b06ab5106d43ce89419b5ff756e430",
        "IPY_MODEL_f3dd6613a12749858ffe3a9e4155711f"
       ],
       "layout": "IPY_MODEL_65ed7cf85f7648708891066d277f7800"
      }
     },
     "d24e6e8e88c443df9027165ec35f8051": {
      "model_module": "@jupyter-widgets/controls",
      "model_module_version": "1.5.0",
      "model_name": "DescriptionStyleModel",
      "state": {
       "_model_module": "@jupyter-widgets/controls",
       "_model_module_version": "1.5.0",
       "_model_name": "DescriptionStyleModel",
       "_view_count": null,
       "_view_module": "@jupyter-widgets/base",
       "_view_module_version": "1.2.0",
       "_view_name": "StyleView",
       "description_width": ""
      }
     },
     "e1b06ab5106d43ce89419b5ff756e430": {
      "model_module": "@jupyter-widgets/controls",
      "model_module_version": "1.5.0",
      "model_name": "FloatProgressModel",
      "state": {
       "_dom_classes": [],
       "_model_module": "@jupyter-widgets/controls",
       "_model_module_version": "1.5.0",
       "_model_name": "FloatProgressModel",
       "_view_count": null,
       "_view_module": "@jupyter-widgets/controls",
       "_view_module_version": "1.5.0",
       "_view_name": "ProgressView",
       "bar_style": "success",
       "description": "",
       "description_tooltip": null,
       "layout": "IPY_MODEL_ef4fd47ff2ae4230b0ecb93f7c4621fa",
       "max": 1,
       "min": 0,
       "orientation": "horizontal",
       "style": "IPY_MODEL_96cc2f3019ae4edbb582ed11d289239b",
       "value": 1
      }
     },
     "e8bb36fb288d4224939115f822007d63": {
      "model_module": "@jupyter-widgets/controls",
      "model_module_version": "1.5.0",
      "model_name": "FloatProgressModel",
      "state": {
       "_dom_classes": [],
       "_model_module": "@jupyter-widgets/controls",
       "_model_module_version": "1.5.0",
       "_model_name": "FloatProgressModel",
       "_view_count": null,
       "_view_module": "@jupyter-widgets/controls",
       "_view_module_version": "1.5.0",
       "_view_name": "ProgressView",
       "bar_style": "success",
       "description": "",
       "description_tooltip": null,
       "layout": "IPY_MODEL_3fcda185301f4d8d9bf3c6a28576eb43",
       "max": 1,
       "min": 0,
       "orientation": "horizontal",
       "style": "IPY_MODEL_2525e93c8dd74e1a814e423d392715c6",
       "value": 1
      }
     },
     "ebb63b3694a744029270427be4dfe1b0": {
      "model_module": "@jupyter-widgets/base",
      "model_module_version": "1.2.0",
      "model_name": "LayoutModel",
      "state": {
       "_model_module": "@jupyter-widgets/base",
       "_model_module_version": "1.2.0",
       "_model_name": "LayoutModel",
       "_view_count": null,
       "_view_module": "@jupyter-widgets/base",
       "_view_module_version": "1.2.0",
       "_view_name": "LayoutView",
       "align_content": null,
       "align_items": null,
       "align_self": null,
       "border": null,
       "bottom": null,
       "display": null,
       "flex": null,
       "flex_flow": null,
       "grid_area": null,
       "grid_auto_columns": null,
       "grid_auto_flow": null,
       "grid_auto_rows": null,
       "grid_column": null,
       "grid_gap": null,
       "grid_row": null,
       "grid_template_areas": null,
       "grid_template_columns": null,
       "grid_template_rows": null,
       "height": null,
       "justify_content": null,
       "justify_items": null,
       "left": null,
       "margin": null,
       "max_height": null,
       "max_width": null,
       "min_height": null,
       "min_width": null,
       "object_fit": null,
       "object_position": null,
       "order": null,
       "overflow": null,
       "overflow_x": null,
       "overflow_y": null,
       "padding": null,
       "right": null,
       "top": null,
       "visibility": null,
       "width": null
      }
     },
     "ef4fd47ff2ae4230b0ecb93f7c4621fa": {
      "model_module": "@jupyter-widgets/base",
      "model_module_version": "1.2.0",
      "model_name": "LayoutModel",
      "state": {
       "_model_module": "@jupyter-widgets/base",
       "_model_module_version": "1.2.0",
       "_model_name": "LayoutModel",
       "_view_count": null,
       "_view_module": "@jupyter-widgets/base",
       "_view_module_version": "1.2.0",
       "_view_name": "LayoutView",
       "align_content": null,
       "align_items": null,
       "align_self": null,
       "border": null,
       "bottom": null,
       "display": null,
       "flex": null,
       "flex_flow": null,
       "grid_area": null,
       "grid_auto_columns": null,
       "grid_auto_flow": null,
       "grid_auto_rows": null,
       "grid_column": null,
       "grid_gap": null,
       "grid_row": null,
       "grid_template_areas": null,
       "grid_template_columns": null,
       "grid_template_rows": null,
       "height": null,
       "justify_content": null,
       "justify_items": null,
       "left": null,
       "margin": null,
       "max_height": null,
       "max_width": null,
       "min_height": null,
       "min_width": null,
       "object_fit": null,
       "object_position": null,
       "order": null,
       "overflow": null,
       "overflow_x": null,
       "overflow_y": null,
       "padding": null,
       "right": null,
       "top": null,
       "visibility": null,
       "width": null
      }
     },
     "f3dd6613a12749858ffe3a9e4155711f": {
      "model_module": "@jupyter-widgets/controls",
      "model_module_version": "1.5.0",
      "model_name": "HTMLModel",
      "state": {
       "_dom_classes": [],
       "_model_module": "@jupyter-widgets/controls",
       "_model_module_version": "1.5.0",
       "_model_name": "HTMLModel",
       "_view_count": null,
       "_view_module": "@jupyter-widgets/controls",
       "_view_module_version": "1.5.0",
       "_view_name": "HTMLView",
       "description": "",
       "description_tooltip": null,
       "layout": "IPY_MODEL_c1c8b7529d04412782a9df0d2758902a",
       "placeholder": "​",
       "style": "IPY_MODEL_1351950af32144349aeca641dd4f1a48",
       "value": " 1/1 [00:03&lt;00:00,  3.38s/it]"
      }
     },
     "fb723cd661334650bcdc20daf2b1d3d8": {
      "model_module": "@jupyter-widgets/base",
      "model_module_version": "1.2.0",
      "model_name": "LayoutModel",
      "state": {
       "_model_module": "@jupyter-widgets/base",
       "_model_module_version": "1.2.0",
       "_model_name": "LayoutModel",
       "_view_count": null,
       "_view_module": "@jupyter-widgets/base",
       "_view_module_version": "1.2.0",
       "_view_name": "LayoutView",
       "align_content": null,
       "align_items": null,
       "align_self": null,
       "border": null,
       "bottom": null,
       "display": null,
       "flex": null,
       "flex_flow": null,
       "grid_area": null,
       "grid_auto_columns": null,
       "grid_auto_flow": null,
       "grid_auto_rows": null,
       "grid_column": null,
       "grid_gap": null,
       "grid_row": null,
       "grid_template_areas": null,
       "grid_template_columns": null,
       "grid_template_rows": null,
       "height": null,
       "justify_content": null,
       "justify_items": null,
       "left": null,
       "margin": null,
       "max_height": null,
       "max_width": null,
       "min_height": null,
       "min_width": null,
       "object_fit": null,
       "object_position": null,
       "order": null,
       "overflow": null,
       "overflow_x": null,
       "overflow_y": null,
       "padding": null,
       "right": null,
       "top": null,
       "visibility": null,
       "width": null
      }
     }
    },
    "version_major": 2,
    "version_minor": 0
   }
  }
 },
 "nbformat": 4,
 "nbformat_minor": 5
}
